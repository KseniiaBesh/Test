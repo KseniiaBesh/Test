{
 "cells": [
  {
   "cell_type": "code",
   "execution_count": 1,
   "id": "73568778-a695-4f36-a51d-3a4044d217bf",
   "metadata": {
    "tags": []
   },
   "outputs": [],
   "source": [
    "import json"
   ]
  },
  {
   "cell_type": "code",
   "execution_count": 2,
   "id": "0f65d978-5bd8-4b32-a2f1-a10d099f4ef5",
   "metadata": {},
   "outputs": [],
   "source": [
    "def check_capacity(max_capacity: int, guests: list) -> bool:\n",
    "    # Реализация алгоритма\n",
    "    a =[]\n",
    "    for i in guests:\n",
    "        a.append((i[\"check-in\"],1)) # счетчик заселение\n",
    "        a.append((i[\"check-out\"],-1)) # счетчик выселение\n",
    "    a.sort()\n",
    "    rooms = 0\n",
    "    for j in a:\n",
    "        rooms += j[1]\n",
    "        if rooms>max_capacity:\n",
    "            return False\n",
    "    return True"
   ]
  },
  {
   "cell_type": "code",
   "execution_count": 3,
   "id": "c1305685-a8ee-4107-9664-4605d6352e6b",
   "metadata": {
    "tags": []
   },
   "outputs": [
    {
     "name": "stdin",
     "output_type": "stream",
     "text": [
      " 2\n",
      " 3\n",
      " {\"name\": \"1\", \"check-in\": \"2021-01-10\", \"check-out\": \"2021-01-15\"}\n",
      " {\"name\": \"2\", \"check-in\": \"2021-01-12\", \"check-out\": \"2021-01-20\"}\n",
      " {\"name\": \"3\", \"check-in\": \"2021-01-15\", \"check-out\": \"2021-01-21\"}\n"
     ]
    },
    {
     "name": "stdout",
     "output_type": "stream",
     "text": [
      "True\n"
     ]
    }
   ],
   "source": [
    "if __name__ == \"__main__\":\n",
    "    # Чтение входных данных\n",
    "    max_capacity = int(input())\n",
    "    n = int(input())\n",
    "    \n",
    "    guests = []\n",
    "    for _ in range(n):\n",
    "        guest_json = input()\n",
    "        guest_data = json.loads(guest_json)\n",
    "        guests.append(guest_data)\n",
    "\n",
    "\n",
    "    result = check_capacity(max_capacity, guests)\n",
    "    print(result)"
   ]
  },
  {
   "cell_type": "code",
   "execution_count": null,
   "id": "02180b3b-544d-4c15-a36e-5e3dcd129c71",
   "metadata": {},
   "outputs": [],
   "source": []
  }
 ],
 "metadata": {
  "kernelspec": {
   "display_name": "Python 3 (ipykernel)",
   "language": "python",
   "name": "python3"
  },
  "language_info": {
   "codemirror_mode": {
    "name": "ipython",
    "version": 3
   },
   "file_extension": ".py",
   "mimetype": "text/x-python",
   "name": "python",
   "nbconvert_exporter": "python",
   "pygments_lexer": "ipython3",
   "version": "3.11.9"
  }
 },
 "nbformat": 4,
 "nbformat_minor": 5
}
